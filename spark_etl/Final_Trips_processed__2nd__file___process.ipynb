{
 "cells": [
  {
   "cell_type": "code",
   "execution_count": 26,
   "metadata": {},
   "outputs": [],
   "source": [
    "############### Importing All Libraries #####################\n",
    "import os, glob\n",
    "from datetime import date\n",
    "from pyspark.sql import SparkSession\n",
    "from pyspark.sql.functions import col, row_number\n",
    "from pyspark.sql.window import Window"
   ]
  },
  {
   "cell_type": "code",
   "execution_count": 27,
   "metadata": {},
   "outputs": [],
   "source": [
    "############### Creating SparkSession and Creating EmptyRDD #####################\n",
    "spark = SparkSession.builder.appName('nyc_processed_zone').getOrCreate()\n",
    "emptyRDD = spark.sparkContext.emptyRDD()"
   ]
  },
  {
   "cell_type": "code",
   "execution_count": 28,
   "metadata": {},
   "outputs": [],
   "source": [
    "############### getting current date, month and day #####################\n",
    "today = date.today()\n",
    "year = str(\"year=\"+str(today.strftime(\"%Y\")))\n",
    "month = str(\"month=\"+str((today.strftime(\"%b\"))[:3]))\n",
    "day = str(\"day=\"+str((today.strftime(\"%d\"))))"
   ]
  },
  {
   "cell_type": "code",
   "execution_count": 29,
   "metadata": {},
   "outputs": [
    {
     "data": {
      "text/plain": [
       "[]"
      ]
     },
     "execution_count": 29,
     "metadata": {},
     "output_type": "execute_result"
    }
   ],
   "source": [
    "############### Get list of file's and folder's #####################\n",
    "glob.glob('/opt/notebooks/nyc/processed_zone/trips/2021/11/*')"
   ]
  },
  {
   "cell_type": "code",
   "execution_count": 30,
   "metadata": {},
   "outputs": [],
   "source": [
    "# new_df = spark.read.parquet('/opt/notebooks/nyc/processed_zone/trips/2021/11/25/*/*')"
   ]
  },
  {
   "cell_type": "code",
   "execution_count": 32,
   "metadata": {},
   "outputs": [],
   "source": [
    "# spark.read.parquet(\"/opt/notebooks/nyc/processed_zone/trips/{0}/{1}/{2}\".format(year,month,day))"
   ]
  },
  {
   "cell_type": "code",
   "execution_count": 41,
   "metadata": {},
   "outputs": [
    {
     "name": "stdout",
     "output_type": "stream",
     "text": [
      "year=2022\n",
      "month=Apr\n",
      "day=28\n",
      "Hive_Processed_Data exists\n",
      "old data parquet file exists\n"
     ]
    }
   ],
   "source": [
    "############### checking the folder or file exists or not #####################\n",
    "if (os.path.exists(\"/opt/notebooks/nyc/processed_zone/trips/{0}\".format(year))):\n",
    "    print(year)\n",
    "    if (os.path.exists(\"/opt/notebooks/nyc/processed_zone/trips/{0}/{1}\".format(year,month))):\n",
    "        print(month)\n",
    "        if (os.path.exists(\"/opt/notebooks/nyc/processed_zone/trips/{0}/{1}/{2}\".format(year,month,day))):\n",
    "            print(day)\n",
    "            ############### reading data from new path #####################\n",
    "            new_path = \"/opt/notebooks/nyc/processed_zone/trips/{0}/{1}/{2}\".format(year,month,day)\n",
    "            #//////this is manual part for now\n",
    "            new_df = spark.read.parquet(str(\"/opt/notebooks/nyc/processed_zone/trips/{0}/{1}/{2}\".format(year,month,day)+\"*/*\"))\n",
    "            ############### checking the folder or file exists or not #####################\n",
    "            if (os.path.exists(\"/opt/notebooks/nyc/Hive_Processed_Data\")):\n",
    "                print(\"Hive_Processed_Data exists\")\n",
    "                if (len(glob.glob(\"/opt/notebooks/nyc/Hive_Processed_Data/*\"))):\n",
    "                    print(\"old data parquet file exists\")\n",
    "            \n",
    "                    ############### reading data from old path #####################\n",
    "                    old_path = \"/opt/notebooks/nyc/Hive_Processed_Data/*\"\n",
    "                    old_df = spark.read.parquet(old_path)\n",
    "\n",
    "                    ############### union of (new + old) Data #####################\n",
    "                    union_df = new_df.unionAll(old_df)\n",
    "\n",
    "                    ############### Adding new columns row_number #####################\n",
    "                    df_with_columns = union_df.withColumn(\"row_number\", row_number().over(Window.partitionBy(union_df['trip_id']).orderBy('trip_id')))\n",
    "\n",
    "\n",
    "                    ############### droping the row_numbers col #####################\n",
    "                    df_without_col = df_with_columns.where(df_with_columns.row_number == 1).drop(\"row_number\")\n",
    "\n",
    "\n",
    "                    ############### Saving data agin to the same path #####################\n",
    "                    df_without_col.repartition(1).write.format(\"parquet\").mode(\"append\").save(\"/opt/notebooks/nyc/Hive_Processed_Data/final_hive.parquet\")\n",
    "                else:\n",
    "                    print('file not exists inside Hive_Processed_Data folder')\n",
    "                    new_df.repartition(1).write.format(\"parquet\").save(\"/opt/notebooks/nyc/Hive_Processed_Data/final_hive.parquet\")\n",
    "            else:\n",
    "                print('Hive_Processed_Data does not exists')\n",
    "     "
   ]
  },
  {
   "cell_type": "code",
   "execution_count": 39,
   "metadata": {},
   "outputs": [],
   "source": [
    "# new_path = \"/opt/notebooks/nyc/processed_zone/trips/{0}/{1}/{2}\".format(2021,11,25)"
   ]
  },
  {
   "cell_type": "code",
   "execution_count": 40,
   "metadata": {},
   "outputs": [],
   "source": [
    "# new_path"
   ]
  }
 ],
 "metadata": {
  "kernelspec": {
   "display_name": "Python 3",
   "language": "python",
   "name": "python3"
  },
  "language_info": {
   "codemirror_mode": {
    "name": "ipython",
    "version": 3
   },
   "file_extension": ".py",
   "mimetype": "text/x-python",
   "name": "python",
   "nbconvert_exporter": "python",
   "pygments_lexer": "ipython3",
   "version": "3.7.7"
  }
 },
 "nbformat": 4,
 "nbformat_minor": 4
}
